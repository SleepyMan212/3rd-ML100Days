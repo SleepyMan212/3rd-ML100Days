{
 "cells": [
  {
   "cell_type": "markdown",
   "metadata": {},
   "source": [
    "## [作業目標]\n",
    "了解機器學習適合應用的領域與範疇。"
   ]
  },
  {
   "cell_type": "markdown",
   "metadata": {},
   "source": [
    "## [作業重點]\n",
    "透過瞭解機器學習的運作方式，找出非常適用機器學習應用的領域及其原因"
   ]
  },
  {
   "cell_type": "markdown",
   "metadata": {},
   "source": [
    "## 作業\n",
    "請找出一個你認為機器學習可以發光發熱的領域並闡述原因? "
   ]
  },
  {
   "cell_type": "code",
   "execution_count": 1,
   "metadata": {},
   "outputs": [
    {
     "ename": "SyntaxError",
     "evalue": "invalid character in identifier (<ipython-input-1-9729e2a7c554>, line 3)",
     "output_type": "error",
     "traceback": [
      "\u001b[1;36m  File \u001b[1;32m\"<ipython-input-1-9729e2a7c554>\"\u001b[1;36m, line \u001b[1;32m3\u001b[0m\n\u001b[1;33m    如果可以透過 機器學習辨識出身邊的圖片，可以讓盲人對這世界更了解，行動上或許也會更方便\u001b[0m\n\u001b[1;37m                                              ^\u001b[0m\n\u001b[1;31mSyntaxError\u001b[0m\u001b[1;31m:\u001b[0m invalid character in identifier\n"
     ]
    }
   ],
   "source": [
    " 盲人市場\n",
    "因為現在盲人只能藉由白手杖或者是導盲犬來認知這世界\n",
    "如果可以透過 機器學習辨識出身邊的圖片，可以讓盲人對這世界更了解，行動上或許也會更方便\n",
    "如果盲人可以透過自身的語音來告訴 AI ，讓 AI 來辨識出身邊有沒有類似的東西，或者帶她去找，生活上會過得更方便\n",
    "\n",
    "因為在提供教材中，有說到像是 imagenet 這類的網站提供了很多 labeled 的資料，所以更容易使用 supervisor 的方式來訓練模型"
   ]
  }
 ],
 "metadata": {
  "kernelspec": {
   "display_name": "Python 3",
   "language": "python",
   "name": "python3"
  },
  "language_info": {
   "codemirror_mode": {
    "name": "ipython",
    "version": 3
   },
   "file_extension": ".py",
   "mimetype": "text/x-python",
   "name": "python",
   "nbconvert_exporter": "python",
   "pygments_lexer": "ipython3",
   "version": "3.7.3"
  }
 },
 "nbformat": 4,
 "nbformat_minor": 2
}
